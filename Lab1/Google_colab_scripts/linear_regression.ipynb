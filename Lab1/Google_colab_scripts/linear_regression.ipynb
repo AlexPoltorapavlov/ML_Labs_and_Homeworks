{
  "nbformat": 4,
  "nbformat_minor": 0,
  "metadata": {
    "colab": {
      "provenance": [],
      "collapsed_sections": []
    },
    "kernelspec": {
      "name": "python3",
      "display_name": "Python 3"
    },
    "language_info": {
      "name": "python"
    }
  },
  "cells": [
    {
      "cell_type": "code",
      "execution_count": 1,
      "metadata": {
        "colab": {
          "base_uri": "https://localhost:8080/",
          "height": 282
        },
        "id": "boa18Jjqv1Uw",
        "outputId": "f6b9a51b-8356-4bb5-b6a6-6d41e420276a"
      },
      "outputs": [
        {
          "output_type": "execute_result",
          "data": {
            "text/plain": [
              "<matplotlib.collections.PathCollection at 0x7f05f1fe5f50>"
            ]
          },
          "metadata": {},
          "execution_count": 1
        },
        {
          "output_type": "display_data",
          "data": {
            "text/plain": [
              "<Figure size 432x288 with 1 Axes>"
            ],
            "image/png": "[encoded data removed]"
          },
          "metadata": {
            "needs_background": "light"
          }
        }
      ],
      "source": [
        "#Import the required modules, numpy for calculation, and Matplotlib for drawing\n",
        "import numpy as np\n",
        "import matplotlib.pyplot as plt\n",
        "#This code is for jupyter Notebook only\n",
        "%matplotlib inline\n",
        "\n",
        "# define data, and change list to array\n",
        "x = [3,21,22,34,54,34,55,67,89,99]\n",
        "x = np.array(x)\n",
        "y = [2,22,24,65,79,82,55,130,150,199]\n",
        "y = np.array(y)\n",
        "\n",
        "#Show the effect of a scatter plot\n",
        "plt.scatter(x,y)"
      ]
    },
    {
      "cell_type": "code",
      "source": [
        "# Функция модели: определяет модель линейной регрессии wx+b\n",
        "def model(w, b, x):\n",
        "    return w*x + b\n",
        "\n",
        "# Функция потерь: функция потерь среднеквадратичной ошибки\n",
        "def loss_function(w, b, x, y):\n",
        "    num = len(x)\n",
        "    prediction = model(w, b, x)\n",
        "    return (0.5/num) * (np.square(prediction - y)).sum()\n",
        "\n",
        "# Функция оптимизации: метод градиентного спуска для нахождения частных производных w и b.\n",
        "def optimize(w, b, x, y):\n",
        "    num = len(x)\n",
        "    prediction = model(w, b, x)\n",
        "    dw = (1.0 / num) * ((prediction - y) * x).sum()\n",
        "    db = (1.0 / num) * ((prediction - y).sum())\n",
        "    \n",
        "    w = w - Lr*dw\n",
        "    b = b - Lr*db\n",
        "    return w, b\n",
        "\n",
        "def iterate(w, b, x, y, times):\n",
        "    for i in range (times):\n",
        "        w, b = optimize (w, b, x, y)\n",
        "        \n",
        "    return w, b"
      ],
      "metadata": {
        "id": "EfKF0s1_3c32"
      },
      "execution_count": 2,
      "outputs": []
    },
    {
      "cell_type": "code",
      "source": [
        "w = np.random.rand(1)\n",
        "print(f'w = {w}') # написал, что w есть w, а b есть b, чтобы не путаться\n",
        "b = np.random.rand(1)\n",
        "print(f'b = {b}')\n",
        "Lr = 0.000001\n",
        "\n",
        "w, b = iterate(w, b, x, y, 1000000) # the more times it iterates the line is more correct\n",
        "prediction = model(w, b, x)\n",
        "loss = loss_function(w, b, x, y)\n",
        "print({'w': w, 'b': b, 'loss': loss}) # made dict for my understanding\n",
        "plt.scatter(x, y)\n",
        "plt.plot(x, prediction)"
      ],
      "metadata": {
        "colab": {
          "base_uri": "https://localhost:8080/",
          "height": 334
        },
        "id": "Qn7S5kr93d7w",
        "outputId": "0243acf5-70e7-479e-fe05-9a37257dbe1d"
      },
      "execution_count": 3,
      "outputs": [
        {
          "output_type": "stream",
          "name": "stdout",
          "text": [
            "w = [0.59488415]\n",
            "b = [0.55907119]\n",
            "{'w': array([1.78646475]), 'b': array([-2.18783737]), 'loss': 182.8379334344096}\n"
          ]
        },
        {
          "output_type": "execute_result",
          "data": {
            "text/plain": [
              "[<matplotlib.lines.Line2D at 0x7f05f1a7e650>]"
            ]
          },
          "metadata": {},
          "execution_count": 3
        },
        {
          "output_type": "display_data",
          "data": {
            "text/plain": [
              "<Figure size 432x288 with 1 Axes>"
            ],
            "image/png": "[encoded data removed]"
          },
          "metadata": {
            "needs_background": "light"
          }
        }
      ]
    },
    {
      "cell_type": "code",
      "source": [
        "def is_loss_zero():\n",
        "#  (0.5/10) * np.square(w*x + b - y) -> 0\n",
        "#  np.square(w*x + b - y) -> 0\n",
        "# w*x + b - y -> 0\n",
        "# w*x -> y - b\n",
        "# if w*x -> y - b then loss -> 0\n",
        "  x = 100\n",
        "  y = w * x + b\n",
        "  return (0.5/10) * np.square(w*x + b - y)\n",
        "print (is_loss_zero()) # loss -> 0 при условии, что сумма элементов \n",
        "# массива 'y' равняется сумме элементов массива 'x', умноженных на 'w' и \n",
        "# еще прибавить 'b'. При этом длина массивов не имеет значение"
      ],
      "metadata": {
        "id": "IHqlmBZkh47j",
        "colab": {
          "base_uri": "https://localhost:8080/"
        },
        "outputId": "43fec1ff-025b-40e9-fdac-6cad89b245e7"
      },
      "execution_count": 8,
      "outputs": [
        {
          "output_type": "stream",
          "name": "stdout",
          "text": [
            "[0.]\n"
          ]
        }
      ]
    }
  ]
}